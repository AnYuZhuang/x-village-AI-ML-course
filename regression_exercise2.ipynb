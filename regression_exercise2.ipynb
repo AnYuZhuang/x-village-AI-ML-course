{
 "cells": [
  {
   "cell_type": "markdown",
   "metadata": {},
   "source": [
    "# Regression Exercise - (2)\n",
    "## Requirements\n",
    "* 使用 LinearRegression( ) and SGDRegressor( ) 來解Exercise - (1) 的數據\n",
    "* 印出兩種方法訓練完後得到的weight值 (θ) \n",
    "* 觀察兩種方法的結果差別\n",
    "---"
   ]
  },
  {
   "cell_type": "code",
   "execution_count": 2,
   "metadata": {
    "collapsed": true
   },
   "outputs": [],
   "source": [
    "%matplotlib inline\n",
    "import matplotlib.pyplot as plt\n",
    "import numpy as np\n",
    "import pandas as pd"
   ]
  },
  {
   "cell_type": "markdown",
   "metadata": {},
   "source": [
    "### 資料處理跟exercise-(1)一樣，可忽略"
   ]
  },
  {
   "cell_type": "code",
   "execution_count": null,
   "metadata": {
    "collapsed": true
   },
   "outputs": [],
   "source": [
    "# read input data\n",
    "def read_data(file_name):\n",
    "    data = pd.read_csv(file_name)\n",
    "\n",
    "    return data\n",
    "\n",
    "# data preprocessing\n",
    "file_name = 'data/regression_exercise1_data.csv'\n",
    "data = read_data(file_name)\n",
    "\n",
    "data.insert(0, 'X_0', 1)\n",
    "\n",
    "X_df = data.iloc[:, 0:2]\n",
    "y_df = data.iloc[:, 2:3]\n",
    "\n",
    "X = X_df.values\n",
    "y = y_df.values"
   ]
  },
  {
   "cell_type": "markdown",
   "metadata": {},
   "source": [
    "### 畫linear regression 訓練完後的結果"
   ]
  },
  {
   "cell_type": "code",
   "execution_count": 3,
   "metadata": {
    "collapsed": true
   },
   "outputs": [],
   "source": [
    "def plot_regression_line(X, real_y, predicted_y):\n",
    "    '''\n",
    "    Parameter\n",
    "    ----------\n",
    "        X: `array`\n",
    "        real_y: `array`\n",
    "            真實的label值\n",
    "            \n",
    "        predicted_y: `array`\n",
    "            預測的label值\n",
    "    '''\n",
    "    plt.scatter(X, real_y, s=60, alpha=.6)\n",
    "    plt.plot(X, predicted_y, 'r-')\n",
    "    plt.show() "
   ]
  },
  {
   "cell_type": "markdown",
   "metadata": {},
   "source": [
    "### * 使用 LinearRegression( ) and SGDRegressor( ) 來解Exercise - (1) 的數據\n",
    "### * 印出兩種方法訓練完後得到的weight值 (θ) \n",
    "### * 觀察兩種方法的結果差別\n",
    "- 提示: 呼叫plot_regression_line(X[:1,], y, ???)"
   ]
  },
  {
   "cell_type": "code",
   "execution_count": null,
   "metadata": {
    "collapsed": true
   },
   "outputs": [],
   "source": [
    "'''\n",
    "Use LinearRegression() and SGDRegressor here.\n",
    "'''"
   ]
  }
 ],
 "metadata": {
  "kernelspec": {
   "display_name": "Python 3",
   "language": "python",
   "name": "python3"
  },
  "language_info": {
   "codemirror_mode": {
    "name": "ipython",
    "version": 3
   },
   "file_extension": ".py",
   "mimetype": "text/x-python",
   "name": "python",
   "nbconvert_exporter": "python",
   "pygments_lexer": "ipython3",
   "version": "3.6.4"
  }
 },
 "nbformat": 4,
 "nbformat_minor": 2
}
